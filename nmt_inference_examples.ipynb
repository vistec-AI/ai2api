{
 "cells": [
  {
   "cell_type": "markdown",
   "metadata": {},
   "source": [
    "# Model Inference"
   ]
  },
  {
   "cell_type": "markdown",
   "metadata": {},
   "source": [
    "This notebook details how to infer from the English-Thai machine translation models.\n",
    "\n",
    "Import library `fairseq`. Not that you need to install from source:\n",
    "\n",
    "```\n",
    "git clone https://github.com/pytorch/fairseq\n",
    "cd fairseq\n",
    "pip install --editable .\n",
    "```\n",
    "\n",
    "If you are using Python 3.6, you might run into [this problem](https://stackoverflow.com/questions/55833509/attributeerror-type-object-callable-has-no-attribute-abc-registry).\n",
    "\n",
    "Download the `artifacts/` folder from [here](https://www.dropbox.com/sh/za16rr8dp7f2d7h/AACpdb28ZrnmVL7yga0n_Mvaa?dl=0)."
   ]
  },
  {
   "cell_type": "code",
   "execution_count": 4,
   "metadata": {},
   "outputs": [],
   "source": [
    "from fairseq.models.transformer import TransformerModel\n",
    "import os, time\n",
    "import sentencepiece\n",
    "from mosestokenizer import MosesTokenizer"
   ]
  },
  {
   "cell_type": "code",
   "execution_count": 5,
   "metadata": {},
   "outputs": [
    {
     "name": "stderr",
     "output_type": "stream",
     "text": [
      "I0627 17:23:17.355901 140443652982592 toolwrapper.py:96] executing argv ['perl', '/home/cstorm125/venv/lib/python3.6/site-packages/mosestokenizer/tokenizer-v1.1.perl', '-q', '-l', 'en', '-b', '-a']\n",
      "I0627 17:23:17.474443 140443652982592 toolwrapper.py:117] spawned process 314\n"
     ]
    }
   ],
   "source": [
    "en_tokenize = MosesTokenizer('en')"
   ]
  },
  {
   "cell_type": "markdown",
   "metadata": {},
   "source": [
    "Initialize NMT model\n",
    "\n",
    "\n",
    "1. Model checkpoint .pt\n",
    "2. Directory that store vocabulary\n",
    "2. Directory that SentencePiece model (if the model require)\n",
    "\n"
   ]
  },
  {
   "cell_type": "markdown",
   "metadata": {},
   "source": [
    "### th->en"
   ]
  },
  {
   "cell_type": "code",
   "execution_count": 3,
   "metadata": {},
   "outputs": [],
   "source": [
    "MODEL_BASE_DIR = 'artifacts/th-en/models/'\n",
    "VOCAB_BASE_DIR = 'artifacts/th-en/vocab/'\n",
    "BPE_BASE_DIR = 'artifacts/th-en/bpe/'"
   ]
  },
  {
   "cell_type": "code",
   "execution_count": 4,
   "metadata": {},
   "outputs": [
    {
     "name": "stdout",
     "output_type": "stream",
     "text": [
      "checkpoint_best.pt\r\n"
     ]
    }
   ],
   "source": [
    "!ls $MODEL_BASE_DIR"
   ]
  },
  {
   "cell_type": "code",
   "execution_count": 5,
   "metadata": {},
   "outputs": [
    {
     "name": "stdout",
     "output_type": "stream",
     "text": [
      "dict.en.txt        test.th-en.en.idx  train.th-en.en.idx valid.th-en.en.idx\r\n",
      "dict.th.txt        test.th-en.th.bin  train.th-en.th.bin valid.th-en.th.bin\r\n",
      "preprocess.log     test.th-en.th.idx  train.th-en.th.idx valid.th-en.th.idx\r\n",
      "test.th-en.en.bin  train.th-en.en.bin valid.th-en.en.bin\r\n"
     ]
    }
   ],
   "source": [
    "!ls $VOCAB_BASE_DIR"
   ]
  },
  {
   "cell_type": "code",
   "execution_count": 6,
   "metadata": {},
   "outputs": [
    {
     "name": "stdout",
     "output_type": "stream",
     "text": [
      "spm.en.v-16000.cased.model spm.th.v-16000.cased.model\r\n",
      "spm.en.v-16000.cased.vocab spm.th.v-16000.cased.vocab\r\n"
     ]
    }
   ],
   "source": [
    "!ls $BPE_BASE_DIR"
   ]
  },
  {
   "cell_type": "code",
   "execution_count": 7,
   "metadata": {},
   "outputs": [],
   "source": [
    "th2en = TransformerModel.from_pretrained(\n",
    "    model_name_or_path=MODEL_BASE_DIR,\n",
    "    checkpoint_file='checkpoint_best.pt',\n",
    "    data_name_or_path=VOCAB_BASE_DIR,\n",
    "    bpe='sentencepiece',\n",
    "    sentencepiece_vocab=os.path.join(BPE_BASE_DIR, 'spm.th.v-16000.cased.model')\n",
    ")\n"
   ]
  },
  {
   "cell_type": "code",
   "execution_count": 8,
   "metadata": {},
   "outputs": [
    {
     "name": "stderr",
     "output_type": "stream",
     "text": [
      "../aten/src/ATen/native/BinaryOps.cpp:81: UserWarning: Integer division of tensors using div or / is deprecated, and in a future release div will perform true division as in Python 3. Use true_divide or floor_divide (// in Python) instead.\n"
     ]
    },
    {
     "data": {
      "text/plain": [
       "'On 25 December 800, Pope Leo III gave Charlemagne the Frankish king the coronation.'"
      ]
     },
     "execution_count": 8,
     "metadata": {},
     "output_type": "execute_result"
    }
   ],
   "source": [
    "th2en.translate(\"\"\"ในวันที่ 25 ธันวาคม ค.ศ. 800 สมเด็จพระสันตะปาปาลีโอที่ 3 ทรงประกอบพิธีราชาภิเษกให้ชาร์เลอมาญ กษัตริย์แห่งชาวแฟรงก์\"\"\",\n",
    "                beam=4)\n"
   ]
  },
  {
   "cell_type": "code",
   "execution_count": 9,
   "metadata": {},
   "outputs": [
    {
     "data": {
      "text/plain": [
       "'Japan Rail Pass is for those from abroad who wish to join Japan as a temporary visitor for tourism purposes. It is usually required to buy Exchange Order via a foreign agent and to trade in Japan as a Japan Rail Pass.'"
      ]
     },
     "execution_count": 9,
     "metadata": {},
     "output_type": "execute_result"
    }
   ],
   "source": [
    "th2en.translate('Japan Rail Pass นั้นมีไว้สำหรับผู้ที่มาจากต่างประเทศที่มีความประสงค์เข้าประเทศญี่ปุ่นในฐานะ “ผู้มาเยือนชั่วคราว(Temporary Visitors)” เพื่อการท่องเที่ยว ซึ่งโดยปกติแล้วต้องซื้อ Exchange Order ผ่านทางบริษัทตัวแทนท่องเที่ยวในต่างประเทศ แล้วจึงนำ Exchange Order นั้นมาแลกเป็น Japan Rail Passได้หลังจากที่เข้าประเทศญี่ปุ่นแล้ว')"
   ]
  },
  {
   "cell_type": "markdown",
   "metadata": {},
   "source": [
    "### en->th"
   ]
  },
  {
   "cell_type": "code",
   "execution_count": 10,
   "metadata": {},
   "outputs": [],
   "source": [
    "MODEL_BASE_DIR = 'artifacts/en-th/models/'\n",
    "VOCAB_BASE_DIR = 'artifacts/en-th/vocab/'\n",
    "BPE_BASE_DIR = 'artifacts/en-th/bpe/'"
   ]
  },
  {
   "cell_type": "code",
   "execution_count": 11,
   "metadata": {},
   "outputs": [
    {
     "name": "stdout",
     "output_type": "stream",
     "text": [
      "checkpoint_best.pt\n",
      "dict.en.txt        test.en-th.en.idx  train.en-th.en.idx valid.en-th.en.idx\n",
      "dict.th.txt        test.en-th.th.bin  train.en-th.th.bin valid.en-th.th.bin\n",
      "preprocess.log     test.en-th.th.idx  train.en-th.th.idx valid.en-th.th.idx\n",
      "test.en-th.en.bin  train.en-th.en.bin valid.en-th.en.bin\n",
      "spm.en.v-16000.cased.model spm.th.v-16000.cased.model\n",
      "spm.en.v-16000.cased.vocab spm.th.v-16000.cased.vocab\n"
     ]
    }
   ],
   "source": [
    "!ls $MODEL_BASE_DIR\n",
    "\n",
    "!ls $VOCAB_BASE_DIR\n",
    "\n",
    "!ls $BPE_BASE_DIR"
   ]
  },
  {
   "cell_type": "code",
   "execution_count": 12,
   "metadata": {},
   "outputs": [],
   "source": [
    "en2th = TransformerModel.from_pretrained(\n",
    "    model_name_or_path=MODEL_BASE_DIR,\n",
    "    checkpoint_file='checkpoint_best.pt',\n",
    "    data_name_or_path=VOCAB_BASE_DIR,\n",
    "    bpe='sentencepiece',\n",
    "    sentencepiece_vocab=os.path.join(BPE_BASE_DIR, 'spm.en.v-16000.cased.model')\n",
    "\n",
    ")\n"
   ]
  },
  {
   "cell_type": "code",
   "execution_count": 13,
   "metadata": {},
   "outputs": [
    {
     "data": {
      "text/plain": [
       "'โทมัส เจฟเฟอร์สัน (Thomas Jefferson: April 13, 1743 [a] – 4 กรกฎาคม ค.ศ. 1826) เป็นบุคคลสัญชาติอเมริกัน นักการทูต นักกฎหมาย สถาปนิก นักปรัชญา และผู้ก่อตั้งพ่อซึ่งทําหน้าที่เป็นประธานาธิบดีคนที่สามของสหรัฐอเมริกาตั้งแต่ ค.ศ. 1801 ถึง ค.ศ. 1809'"
      ]
     },
     "execution_count": 13,
     "metadata": {},
     "output_type": "execute_result"
    }
   ],
   "source": [
    "en2th.translate('Thomas Jefferson (April 13, 1743[a] – July 4, 1826) was an American statesman, diplomat, lawyer, architect, philosopher, and Founding Father who served as the third president of the United States from 1801 to 1809.')"
   ]
  },
  {
   "cell_type": "code",
   "execution_count": 14,
   "metadata": {},
   "outputs": [
    {
     "data": {
      "text/plain": [
       "'Prolactin Prolactin เป็นฮอร์โมนที่ผลิตโดยต่อมไร้ท่อซึ่งอยู่ด้านล่างของสมอง prolactin เป็นสาเหตุให้เต้านมเจริญเติบโตและเจริญขึ้นและทําให้เกิดน้ํานมหลังจากทารกเกิด'"
      ]
     },
     "execution_count": 14,
     "metadata": {},
     "output_type": "execute_result"
    }
   ],
   "source": [
    "en2th.translate('Prolactin is a hormone produced by your pituitary gland which sits at the bottom of the brain. Prolactin causes breasts to grow and develop and causes milk to be made after a baby is born.')"
   ]
  }
 ],
 "metadata": {
  "hide_input": false,
  "kernelspec": {
   "display_name": "Python 3",
   "language": "python",
   "name": "python3"
  }
 },
 "nbformat": 4,
 "nbformat_minor": 4
}
